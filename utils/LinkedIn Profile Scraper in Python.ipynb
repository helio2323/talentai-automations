{
 "cells": [
  {
   "cell_type": "markdown",
   "metadata": {},
   "source": [
    "## LinkedIn Profile Scraper in Python"
   ]
  },
  {
   "cell_type": "markdown",
   "metadata": {},
   "source": [
    "# Announcement-on-ML\n",
    "<a href='http://www.kgptalkie.com' target=\"_blank\"> <img src='https://github.com/laxmimerit/Important-Announcement-on-ML/raw/master/kgptalkie_strips.png'/></a>\n",
    "\n",
    "# ML Resources\n",
    "|  ML Course | Description |\n",
    "|:---|:---|\n",
    "| [**Fine Tuning LLM with HuggingFace Transformers for NLP**](https://www.udemy.com/course/fine-tuning-llm-with-hugging-face-transformers/?referralCode=6DEB3BE17C2644422D8E) | Learn how to fine tune LLM with custom dataset. You will learn basics of transformers then fine tune LLM|\n",
    "| [**Data Visualization in Python Masterclass™: Beginners to Pro**](https://bit.ly/udemy95off_kgptalkie) |  Learn to build Machine Learning and Deep Learning models using Python and its libraries like Scikit-Learn, Keras, and TensorFlow. |\n",
    "| [**Python for Machine Learning: A Step-by-Step Guide**](https://bit.ly/ml-ds-project) | Learn to build Machine Learning and Deep Learning models using Python and its libraries like Scikit-Learn, Keras, and TensorFlow. |\n",
    "| [**Deep Learning for Beginners with Python**](https://bit.ly/dl-with-python) | Neural Networks, TensorFlow, ANN, CNN, RNN, LSTM, Transfer Learning and Much More. |\n",
    "| [**Python for Linear Regression in Machine Learning**](https://bit.ly/regression-python) | Learn to build Linear Regression models using Python and its libraries like Scikit-Learn. |\n",
    "| [**Introduction to Spacy 3 for Natural Language Processing**](https://bit.ly/spacy-intro) | Learn to build Natural Language Processing models using Python and its libraries like Spacy. |\n",
    "| [**Advanced Machine Learning and Deep Learning Projects**](https://bit.ly/kgptalkie_ml_projects) | Learn to build Advanced Machine Learning and Deep Learning models using Python and transformer models like BERT, GPT-2, and XLNet. |\n",
    "| [**Natural Language Processing in Python for Beginners**](https://bit.ly/intro_nlp) | Learn to build Natural Language Processing Projects using Spacy, NLTK, and Gensim, and transformer models like BERT, GPT-2, and XLNet. |\n",
    "| [**Deployment of Machine Learning Models in Production in Python**](https://bit.ly/bert_nlp) |  Learn to deploy Machine Learning and Deep Learning models using Python and its libraries like Flask, Streamlit, and NGINX. |\n",
    "| [**R 4.0 Programming for Data Science - Beginners to Pro**](https://bit.ly/r4-ml) | Learn to build Machine Learning and Deep Learning models using R and its libraries like caret, tidyverse, and keras. |\n"
   ]
  },
  {
   "cell_type": "markdown",
   "metadata": {},
   "source": [
    "YouTube Video: https://youtu.be/SQtwhuYJk3M"
   ]
  },
  {
   "cell_type": "code",
   "execution_count": 1,
   "metadata": {},
   "outputs": [],
   "source": [
    "import warnings\n",
    "warnings.filterwarnings(\"ignore\")"
   ]
  },
  {
   "cell_type": "code",
   "execution_count": 2,
   "metadata": {},
   "outputs": [
    {
     "data": {
      "text/plain": [
       "True"
      ]
     },
     "execution_count": 2,
     "metadata": {},
     "output_type": "execute_result"
    }
   ],
   "source": [
    "import os\n",
    "from bs4 import BeautifulSoup\n",
    "from selenium import webdriver\n",
    "from selenium.webdriver.common.by import By\n",
    "\n",
    "from time import sleep\n",
    "\n",
    "from dotenv import load_dotenv\n",
    "load_dotenv()"
   ]
  },
  {
   "cell_type": "code",
   "execution_count": 4,
   "metadata": {},
   "outputs": [],
   "source": [
    "\n",
    "import dotenv\n",
    "\n",
    "dotenv.load_dotenv()\n",
    "\n",
    "cookie = {\n",
    "    \"name\": \"li_at\",\n",
    "    \"value\": os.environ[\"LINKEDIN_VISITOR_ID\"],\n",
    "    \"domain\": \".linkedin.com\"\n",
    "}\n",
    "\n",
    "driver = webdriver.Chrome()\n",
    "\n",
    "driver.get('https://www.linkedin.com/feed/')\n",
    "\n",
    "driver.add_cookie(cookie)\n"
   ]
  },
  {
   "cell_type": "code",
   "execution_count": 4,
   "metadata": {},
   "outputs": [],
   "source": [
    "driver = webdriver.Chrome()"
   ]
  },
  {
   "cell_type": "code",
   "execution_count": 6,
   "metadata": {},
   "outputs": [],
   "source": [
    "driver.get('https://www.linkedin.com/login')"
   ]
  },
  {
   "cell_type": "code",
   "execution_count": 7,
   "metadata": {},
   "outputs": [
    {
     "data": {
      "text/plain": [
       "'LinkedIn Login, Sign in | LinkedIn'"
      ]
     },
     "execution_count": 7,
     "metadata": {},
     "output_type": "execute_result"
    }
   ],
   "source": [
    "driver.title"
   ]
  },
  {
   "cell_type": "code",
   "execution_count": 10,
   "metadata": {},
   "outputs": [],
   "source": [
    "email = driver.find_element(By.ID, 'username')\n",
    "email.send_keys(os.environ['EMAIL'])\n",
    "\n",
    "password = driver.find_element(By.ID, 'password')\n",
    "password.send_keys(os.environ['PASSWORD'])\n",
    "\n",
    "password.submit()"
   ]
  },
  {
   "cell_type": "code",
   "execution_count": 76,
   "metadata": {},
   "outputs": [],
   "source": [
    "## MAKE SURE TO USE ONLY THIS URL TO AVOID BEING STUCK IN ERRORS\n",
    "\n",
    "url = \"https://www.linkedin.com/in/laxmimerit\"\n",
    "driver.get(url)"
   ]
  },
  {
   "cell_type": "code",
   "execution_count": 77,
   "metadata": {},
   "outputs": [],
   "source": [
    "profile_data = {}"
   ]
  },
  {
   "cell_type": "code",
   "execution_count": 78,
   "metadata": {},
   "outputs": [
    {
     "data": {
      "text/plain": [
       "'Laxmi Kant Tiwari | LinkedIn'"
      ]
     },
     "execution_count": 78,
     "metadata": {},
     "output_type": "execute_result"
    }
   ],
   "source": [
    "driver.title"
   ]
  },
  {
   "cell_type": "code",
   "execution_count": 79,
   "metadata": {},
   "outputs": [
    {
     "name": "stdout",
     "output_type": "stream",
     "text": [
      "None\n"
     ]
    }
   ],
   "source": [
    "page_source = driver.page_source\n",
    "soup = BeautifulSoup(page_source, 'lxml')\n",
    "\n",
    "name = soup.find('h1', {'class': 'text-heading-xlarge inline t-24 v-align-middle break-words'})\n",
    "\n",
    "name = name\n",
    "print(name)\n",
    "profile_data['name'] = name\n",
    "profile_data['url'] = url"
   ]
  },
  {
   "cell_type": "code",
   "execution_count": 80,
   "metadata": {},
   "outputs": [
    {
     "data": {
      "text/plain": [
       "{'name': None, 'url': 'https://www.linkedin.com/in/laxmimerit'}"
      ]
     },
     "execution_count": 80,
     "metadata": {},
     "output_type": "execute_result"
    }
   ],
   "source": [
    "profile_data"
   ]
  },
  {
   "cell_type": "code",
   "execution_count": 81,
   "metadata": {},
   "outputs": [],
   "source": [
    "headline = soup.find('div', {'class': 'text-body-medium break-words'})\n",
    "headline = headline.get_text().strip()\n",
    "\n",
    "profile_data['headline'] = headline"
   ]
  },
  {
   "cell_type": "code",
   "execution_count": 82,
   "metadata": {},
   "outputs": [
    {
     "data": {
      "text/plain": [
       "{'name': None,\n",
       " 'url': 'https://www.linkedin.com/in/laxmimerit',\n",
       " 'headline': 'Gen AI in Finance & Investment Services | Data Scientist | IIT Kharagpur | Asset Management | AI-Driven Financial Modeling | Search Ranking | NLP Python BERT AWS Elasticsearch GNN SQL LLM | AI in Investment Strategies'}"
      ]
     },
     "execution_count": 82,
     "metadata": {},
     "output_type": "execute_result"
    }
   ],
   "source": [
    "profile_data"
   ]
  },
  {
   "cell_type": "markdown",
   "metadata": {},
   "source": [
    "### Show More"
   ]
  },
  {
   "cell_type": "code",
   "execution_count": 83,
   "metadata": {},
   "outputs": [],
   "source": [
    "driver.find_element(By.CLASS_NAME, \"inline-show-more-text__button\").click()"
   ]
  },
  {
   "cell_type": "code",
   "execution_count": 84,
   "metadata": {},
   "outputs": [],
   "source": [
    "page_source = driver.page_source\n",
    "soup = BeautifulSoup(page_source, 'lxml')\n",
    "\n",
    "about = soup.find('div', {'class': 'display-flex ph5 pv3'})\n",
    "\n",
    "about = about.get_text().strip()\n",
    "\n",
    "profile_data['about'] = about"
   ]
  },
  {
   "cell_type": "code",
   "execution_count": 85,
   "metadata": {},
   "outputs": [
    {
     "data": {
      "text/plain": [
       "{'name': None,\n",
       " 'url': 'https://www.linkedin.com/in/laxmimerit',\n",
       " 'headline': 'Gen AI in Finance & Investment Services | Data Scientist | IIT Kharagpur | Asset Management | AI-Driven Financial Modeling | Search Ranking | NLP Python BERT AWS Elasticsearch GNN SQL LLM | AI in Investment Strategies',\n",
       " 'about': 'Demonstrated 8+ years of expertise in advanced analytics as an AVP in Data Science, showcasing dynamic and impactful contributions. Seeking to leverage expertise in customer behavior modeling, personalized marketing, product discovery & search optimization, and recommendations to drive impactful solutions in the fields of Data Science, Machine Learning, and Artificial Intelligence.👉 Significant Achievements Across Career▪ Strategically led impactful initiatives in Customer Behavior Modeling, resulting in a substantial 30% increase in customer retention and a 10% reduction in advertising spending.▪ Pioneered the development and implementation of a Machine Learning product relevance ranking system, contributing to a remarkable 30% increase in conversion rates and a 20% growth in revenue.▪ Applied innovative techniques, including Social Graph Analytics and Predictive  Modeling, achieving a 35% improvement in recommendation conversion rates and a 40% increase in customer care calling conversion rates.▪ Revolutionized customer segmentation and ranking, realizing a notable 20% improvement in conversion rates.▪ Engineered predictive models for email open rates, driving a remarkable 70% improvement in email engagement.▪ Achieved transformative outcomes, including a substantial 50% improvement in search conversion rates, a notable 60% increase in revenue, and an impressive 90% reduction in zero-result queries.▪ A strategic driver of user satisfaction and engagement, evidenced by a commendable 10% decrease in exit rates.Demonstrated 8+ years of expertise in advanced analytics as an AVP in Data Science, showcasing dynamic and impactful contributions. Seeking to leverage expertise in customer behavior modeling, personalized marketing, product discovery & search optimization, and recommendations to drive impactful solutions in the fields of Data Science, Machine Learning, and Artificial Intelligence.\\n\\n👉 Significant Achievements Across Career\\n▪ Strategically led impactful initiatives in Customer Behavior Modeling, resulting in a substantial 30% increase in customer retention and a 10% reduction in advertising spending.\\n\\n▪ Pioneered the development and implementation of a Machine Learning product relevance ranking system, contributing to a remarkable 30% increase in conversion rates and a 20% growth in revenue.\\n\\n▪ Applied innovative techniques, including Social Graph Analytics and Predictive  Modeling, achieving a 35% improvement in recommendation conversion rates and a 40% increase in customer care calling conversion rates.\\n\\n▪ Revolutionized customer segmentation and ranking, realizing a notable 20% improvement in conversion rates.\\n\\n▪ Engineered predictive models for email open rates, driving a remarkable 70% improvement in email engagement.\\n\\n▪ Achieved transformative outcomes, including a substantial 50% improvement in search conversion rates, a notable 60% increase in revenue, and an impressive 90% reduction in zero-result queries.\\n\\n▪ A strategic driver of user satisfaction and engagement, evidenced by a commendable 10% decrease in exit rates.'}"
      ]
     },
     "execution_count": 85,
     "metadata": {},
     "output_type": "execute_result"
    }
   ],
   "source": [
    "profile_data"
   ]
  },
  {
   "cell_type": "markdown",
   "metadata": {},
   "source": [
    "### Read Experience"
   ]
  },
  {
   "cell_type": "code",
   "execution_count": 86,
   "metadata": {},
   "outputs": [],
   "source": [
    "page_source = driver.page_source\n",
    "soup = BeautifulSoup(page_source, 'lxml')\n",
    "\n",
    "sections = soup.find_all('section', {'class': 'artdeco-card pv-profile-card break-words mt2'})"
   ]
  },
  {
   "cell_type": "code",
   "execution_count": 87,
   "metadata": {},
   "outputs": [
    {
     "name": "stdout",
     "output_type": "stream",
     "text": [
      "<section class=\"artdeco-card pv-profile-card break-words mt2\" data-view-name=\"profile-card\" tabindex=\"-1\">\n",
      "<!-- -->\n",
      "<div class=\"pv-profile-card__anchor\" id=\"experience\">\n",
      "</div>\n",
      "<!-- -->\n",
      "<!-- -->\n",
      "<div class=\"OWQvpstIaltwYQoHGLHphdolAZtEkcjFw\">\n",
      "<div class=\"pvs-header__top-container--no-stack\">\n",
      "<div class=\"pvs-header__left-container--stack\">\n",
      "<div class=\"TOUpqvWgqjDnSBuLnBbAnmtkiCvHsgtk\">\n",
      "<!-- --> <h2 class=\"pvs-header__title text-heading-large\">\n",
      "<span aria-hidden=\"true\"><!-- -->Experiência<!-- --></span><span class=\"visually-hidden\"><!-- -->Experiência<!-- --></span>\n",
      "</h2>\n",
      "<!-- --><!-- --> </div>\n",
      "<!-- --> </div>\n",
      "<!-- --> </div>\n",
      "</div>\n",
      "<div class=\"dHUqitTnphCSfxYmWgqCCFuTRDXlBvmfz\">\n",
      "<!-- --> <ul class=\"mxIqWmQICBJjLNdqqrqHwGYznRPsapRCOL\">\n",
      "<li class=\"artdeco-list__item EvXnOvTqclLcZzljLCsXFjUSWZktGvhKPnmx SVHmlhIercRDFFsoHGEwZnnAjhwgdrFs\">\n",
      "<!-- --> <div class=\"NOVxeBqzUTiMyGzKNlzNoxeMplnHleBPxXg KLSmGEzPYRZlNPwvkskRbDFmkwSUzHOWF lKCvJTGWPATTbkssvxYbotvDqkNLyY\" data-view-name=\"profile-component-entity\">\n",
      "<div>\n",
      "<a class=\"optional-action-target-wrapper display-flex\" data-field=\"experience_company_logo\" href=\"https://www.linkedin.com/company/9402791/\" target=\"_self\">\n",
      "<div class=\"ivm-image-view-model pvs-entity__image\">\n",
      "<div class=\"ivm-view-attr__img-wrapper\">\n",
      "<!-- -->\n",
      "<!-- --> <img alt=\"Logo da empresa IGP\" class=\"ivm-view-attr__img--centered EntityPhoto-square-3 evi-image lazy-image ember-view\" height=\"48\" id=\"ember105\" loading=\"lazy\" src=\"https://media.licdn.com/dms/image/v2/D4D0BAQH_lX_f8bN-LA/company-logo_100_100/company-logo_100_100/0/1685630320487/igpcom_logo?e=1746057600&amp;v=beta&amp;t=7cKYlxTFswZs_ZQuf-ty468klj0LKNDB1UeW5mc_UoA\" width=\"48\"/>\n",
      "</div>\n",
      "</div>\n",
      "</a>\n",
      "</div>\n",
      "<div class=\"display-flex flex-column align-self-center flex-grow-1\">\n",
      "<div class=\"display-flex flex-row justify-space-between\">\n",
      "<a class=\"optional-action-target-wrapper display-flex flex-column full-width\" data-field=\"experience_company_logo\" href=\"https://www.linkedin.com/company/9402791/\" target=\"_self\">\n",
      "<div class=\"display-flex flex-wrap align-items-center full-height\">\n",
      "<div class=\"display-flex\">\n",
      "<div class=\"display-flex full-width\">\n",
      "<div class=\"display-flex align-items-center mr1 hoverable-link-text t-bold\">\n",
      "<span aria-hidden=\"true\"><!-- -->IGP<!-- --></span><span class=\"visually-hidden\"><!-- -->IGP<!-- --></span>\n",
      "</div>\n",
      "<!-- -->\n",
      "</div>\n",
      "</div>\n",
      "<!-- --><!-- --><!-- --> </div>\n",
      "<span class=\"t-14 t-normal\">\n",
      "<span aria-hidden=\"true\"><!-- -->Tempo integral · 4 a 10 m<!-- --></span><span class=\"visually-hidden\"><!-- -->Tempo integral · 4 a 10 m<!-- --></span>\n",
      "</span>\n",
      "<!-- --><!-- --> </a>\n",
      "</div>\n",
      "<div class=\"dHUqitTnphCSfxYmWgqCCFuTRDXlBvmfz pvs-entity__sub-components\">\n",
      "<!-- --> <ul class=\"mxIqWmQICBJjLNdqqrqHwGYznRPsapRCOL\">\n",
      "<li class=\"SVHmlhIercRDFFsoHGEwZnnAjhwgdrFs\">\n",
      "<span class=\"vZtqUfnoMVOmWnQjNrZenFXdItZmWytuHU\"></span>\n",
      "<div class=\"NOVxeBqzUTiMyGzKNlzNoxeMplnHleBPxXg xoLtPxfwvoHUpGGyYyaefXeuBVlmHPktOmA\" data-view-name=\"profile-component-entity\">\n",
      "<div>\n",
      "<div aria-hidden=\"true\" class=\"display-flex\" tabindex=\"-1\">\n",
      "<!-- -->\n",
      "</div>\n",
      "</div>\n",
      "<div class=\"display-flex flex-column align-self-center flex-grow-1\">\n",
      "<div class=\"display-flex flex-row justify-space-between\">\n",
      "<a class=\"optional-action-target-wrapper display-flex flex-column full-width\" href=\"https://www.linkedin.com/company/9402791/\" target=\"_self\">\n",
      "<div class=\"display-flex flex-wrap align-items-center full-height\">\n",
      "<div class=\"display-flex\">\n",
      "<div class=\"display-flex full-width\">\n",
      "<div class=\"display-flex align-items-center mr1 hoverable-link-text t-bold\">\n",
      "<span aria-hidden=\"true\"><!-- -->Assistant Vice President<!-- --></span><span class=\"visually-hidden\"><!-- -->Assistant Vice President<!-- --></span>\n",
      "</div>\n",
      "<!-- -->\n",
      "</div>\n",
      "</div>\n",
      "<!-- --><!-- --><!-- --> </div>\n",
      "<!-- --> <span class=\"t-14 t-normal t-black--light\">\n",
      "<span aria-hidden=\"true\" class=\"pvs-entity__caption-wrapper\"><!-- -->out de 2023 - set de 2024 · 1 ano<!-- --></span><span class=\"visually-hidden\"><!-- -->De out de 2023 até set de 2024 · 1 ano<!-- --></span>\n",
      "</span>\n",
      "<span class=\"t-14 t-normal t-black--light\">\n",
      "<span aria-hidden=\"true\"><!-- -->Mumbai, Maharashtra, India<!-- --></span><span class=\"visually-hidden\"><!-- -->Mumbai, Maharashtra, India<!-- --></span>\n",
      "</span>\n",
      "</a>\n",
      "</div>\n",
      "<div class=\"dHUqitTnphCSfxYmWgqCCFuTRDXlBvmfz pvs-entity__sub-components\">\n",
      "<!-- --> <ul class=\"mxIqWmQICBJjLNdqqrqHwGYznRPsapRCOL\">\n",
      "<li class=\"SVHmlhIercRDFFsoHGEwZnnAjhwgdrFs\">\n",
      "<div class=\"dHUqitTnphCSfxYmWgqCCFuTRDXlBvmfz\">\n",
      "<!-- --> <ul class=\"mxIqWmQICBJjLNdqqrqHwGYznRPsapRCOL\">\n",
      "<li class=\"pvs-list__item--with-top-padding SVHmlhIercRDFFsoHGEwZnnAjhwgdrFs\">\n",
      "<div class=\"display-flex\">\n",
      "<div class=\"display-flex full-width\">\n",
      "<div class=\"hMoFaupFIKgHumZUqQROwDXOxifNWOoZIFBDU full-width t-14 t-normal t-black display-flex align-items-center\" dir=\"ltr\">\n",
      "<div class=\"QHDgsnpTXXpHibFplWhsFsRXHoVIufJpRtF inline-show-more-text--is-collapsed inline-show-more-text--is-collapsed-with-line-clamp full-width\" dir=\"ltr\" style=\"-webkit-line-clamp:2;\" tabindex=\"-1\">\n",
      "<span aria-hidden=\"true\"><!-- -->👉Customer Behavior Modeling:<!-- --><br/><!-- -->Estimating Customer Lifetime Value (CLV) predicts customer worth, churn forecasts retention, and purchase propensity gauges transaction counts and spending. Tier transition analysis influences segmentation, retention, and personalized marketing, enhancing satisfaction, loyalty, and revenue.<!-- --><br/><br/><!-- -->👉Hashtag Search:<!-- --><br/><!-- -->Enhancing search functionality by integrating product attributes into phrases for a more intuitive and efficient product discovery process.<!-- --><br/><br/><!-- -->👉Automated Customer Feedback Report:<!-- --><br/><!-- -->Utilizing fine-tuning of a Large Language Model to generate diverse supervised data, addressing imbalances in actual data for improved analysis and data-driven decision-making in customer satisfaction and issue resolution.<!-- --><br/><br/><!-- -->👉Meta Tag Generator for PLP, PDP, and Query Pages:<!-- --><br/><!-- -->The \"Meta Tag Generator\" project automates meta tag creation for PLP, PDP, and Query Pages, optimizing search engine visibility and attracting targeted traffic to the website.<!-- --></span><span class=\"visually-hidden\"><!-- -->👉Customer Behavior Modeling:\n",
      "Estimating Customer Lifetime Value (CLV) predicts customer worth, churn forecasts retention, and purchase propensity gauges transaction counts and spending. Tier transition analysis influences segmentation, retention, and personalized marketing, enhancing satisfaction, loyalty, and revenue.\n",
      "\n",
      "👉Hashtag Search:\n",
      "Enhancing search functionality by integrating product attributes into phrases for a more intuitive and efficient product discovery process.\n",
      "\n",
      "👉Automated Customer Feedback Report:\n",
      "Utilizing fine-tuning of a Large Language Model to generate diverse supervised data, addressing imbalances in actual data for improved analysis and data-driven decision-making in customer satisfaction and issue resolution.\n",
      "\n",
      "👉Meta Tag Generator for PLP, PDP, and Query Pages:\n",
      "The \"Meta Tag Generator\" project automates meta tag creation for PLP, PDP, and Query Pages, optimizing search engine visibility and attracting targeted traffic to the website.<!-- --></span>\n",
      "<!-- --> </div>\n",
      "</div>\n",
      "<!-- -->\n",
      "</div>\n",
      "</div>\n",
      "</li>\n",
      "</ul>\n",
      "<!-- --> </div>\n",
      "</li>\n",
      "</ul>\n",
      "<!-- --> </div>\n",
      "</div>\n",
      "<!-- -->\n",
      "<!-- --> </div>\n",
      "</li>\n",
      "<li class=\"SVHmlhIercRDFFsoHGEwZnnAjhwgdrFs\">\n",
      "<span class=\"vZtqUfnoMVOmWnQjNrZenFXdItZmWytuHU\"></span>\n",
      "<div class=\"NOVxeBqzUTiMyGzKNlzNoxeMplnHleBPxXg xoLtPxfwvoHUpGGyYyaefXeuBVlmHPktOmA\" data-view-name=\"profile-component-entity\">\n",
      "<div>\n",
      "<div aria-hidden=\"true\" class=\"display-flex\" tabindex=\"-1\">\n",
      "<!-- -->\n",
      "</div>\n",
      "</div>\n",
      "<div class=\"display-flex flex-column align-self-center flex-grow-1\">\n",
      "<div class=\"display-flex flex-row justify-space-between\">\n",
      "<a class=\"optional-action-target-wrapper display-flex flex-column full-width\" href=\"https://www.linkedin.com/company/9402791/\" target=\"_self\">\n",
      "<div class=\"display-flex flex-wrap align-items-center full-height\">\n",
      "<div class=\"display-flex\">\n",
      "<div class=\"display-flex full-width\">\n",
      "<div class=\"display-flex align-items-center mr1 hoverable-link-text t-bold\">\n",
      "<span aria-hidden=\"true\"><!-- -->Associate Vice President<!-- --></span><span class=\"visually-hidden\"><!-- -->Associate Vice President<!-- --></span>\n",
      "</div>\n",
      "<!-- -->\n",
      "</div>\n",
      "</div>\n",
      "<!-- --><!-- --><!-- --> </div>\n",
      "<!-- --> <span class=\"t-14 t-normal t-black--light\">\n",
      "<span aria-hidden=\"true\" class=\"pvs-entity__caption-wrapper\"><!-- -->abr de 2021 - out de 2023 · 2 anos 7 meses<!-- --></span><span class=\"visually-hidden\"><!-- -->De abr de 2021 até out de 2023 · 2 anos 7 meses<!-- --></span>\n",
      "</span>\n",
      "<span class=\"t-14 t-normal t-black--light\">\n",
      "<span aria-hidden=\"true\"><!-- -->Mumbai, Maharashtra, India · Presencial<!-- --></span><span class=\"visually-hidden\"><!-- -->Mumbai, Maharashtra, India · Presencial<!-- --></span>\n",
      "</span>\n",
      "</a>\n",
      "</div>\n",
      "<div class=\"dHUqitTnphCSfxYmWgqCCFuTRDXlBvmfz pvs-entity__sub-components\">\n",
      "<!-- --> <ul class=\"mxIqWmQICBJjLNdqqrqHwGYznRPsapRCOL\">\n",
      "<li class=\"SVHmlhIercRDFFsoHGEwZnnAjhwgdrFs\">\n",
      "<div class=\"dHUqitTnphCSfxYmWgqCCFuTRDXlBvmfz\">\n",
      "<!-- --> <ul class=\"mxIqWmQICBJjLNdqqrqHwGYznRPsapRCOL\">\n",
      "<li class=\"pvs-list__item--with-top-padding SVHmlhIercRDFFsoHGEwZnnAjhwgdrFs\">\n",
      "<div class=\"display-flex\">\n",
      "<div class=\"display-flex full-width\">\n",
      "<div class=\"hMoFaupFIKgHumZUqQROwDXOxifNWOoZIFBDU full-width t-14 t-normal t-black display-flex align-items-center\" dir=\"ltr\">\n",
      "<div class=\"QHDgsnpTXXpHibFplWhsFsRXHoVIufJpRtF inline-show-more-text--is-collapsed inline-show-more-text--is-collapsed-with-line-clamp full-width\" dir=\"ltr\" style=\"-webkit-line-clamp:2;\" tabindex=\"-1\">\n",
      "<span aria-hidden=\"true\"><!-- -->👉Personalized Search:<!-- --><br/><!-- -->Engineered dynamic product ranking tailored to individual users, optimizing the search experience based on user preferences.<!-- --><br/><br/><!-- -->👉Graph and Big Data Analysis:<!-- --><br/><!-- -->Designed and implemented graph and big-data analysis tools to extract valuable insights, contributing to strategic decision-making.<!-- --><br/><br/><!-- -->👉Implicit Customer Features Identification:<!-- --><br/><!-- -->Utilized demographic data, including religion, native region, and gender, to drive targeted marketing, resulting in personalized recommendations and search suggestions aligned with individual preferences.<!-- --><br/><br/><!-- -->👉Social Graph Analytics for Personalized Search and Recommendation:<!-- --><br/><!-- -->Analyzed user social graphs and click journeys to develop sophisticated recommendation systems, providing personalized suggestions based on user behavior and connections.<!-- --><br/><br/><!-- -->👉Customer Segmentation and Ranking:<!-- --><br/><!-- -->Implemented techniques to segment customers based on diverse attributes and ranked them according to relevance and potential value, enhancing the personalization of product rankings.<!-- --><br/><br/><!-- -->👉Image Segmentation and Phrase Generation:<!-- --><br/><!-- -->Applied image segmentation techniques to enrich e-commerce product attributes and utilized phrase generation to create descriptive and informative content.<!-- --><br/><br/><!-- -->👉Customer Purchase Intention and Cart Value Prediction:<!-- --><br/><!-- -->Developed models for predicting customer purchase intentions and cart values, contributing to optimized marketing strategies and an improved shopping experience.<!-- --><br/><br/><!-- -->👉User Category and MRP Affinity:<!-- --><br/><!-- -->Explored user categories and their affinity towards specific products or price ranges, leveraging insights to enhance personalized recommendations and targeted marketing efforts.<!-- --><br/><br/><!-- -->👉Social Graph-Based Occasion Marking and Relation Prediction:<!-- --><br/><!-- -->Leveraged the social graph to identify occasions and predict user relationships, facilitating personalized recommendations aligned with specific events or social connections.<!-- --></span><span class=\"visually-hidden\"><!-- -->👉Personalized Search:\n",
      "Engineered dynamic product ranking tailored to individual users, optimizing the search experience based on user preferences.\n",
      "\n",
      "👉Graph and Big Data Analysis:\n",
      "Designed and implemented graph and big-data analysis tools to extract valuable insights, contributing to strategic decision-making.\n",
      "\n",
      "👉Implicit Customer Features Identification:\n",
      "Utilized demographic data, including religion, native region, and gender, to drive targeted marketing, resulting in personalized recommendations and search suggestions aligned with individual preferences.\n",
      "\n",
      "👉Social Graph Analytics for Personalized Search and Recommendation:\n",
      "Analyzed user social graphs and click journeys to develop sophisticated recommendation systems, providing personalized suggestions based on user behavior and connections.\n",
      "\n",
      "👉Customer Segmentation and Ranking:\n",
      "Implemented techniques to segment customers based on diverse attributes and ranked them according to relevance and potential value, enhancing the personalization of product rankings.\n",
      "\n",
      "👉Image Segmentation and Phrase Generation:\n",
      "Applied image segmentation techniques to enrich e-commerce product attributes and utilized phrase generation to create descriptive and informative content.\n",
      "\n",
      "👉Customer Purchase Intention and Cart Value Prediction:\n",
      "Developed models for predicting customer purchase intentions and cart values, contributing to optimized marketing strategies and an improved shopping experience.\n",
      "\n",
      "👉User Category and MRP Affinity:\n",
      "Explored user categories and their affinity towards specific products or price ranges, leveraging insights to enhance personalized recommendations and targeted marketing efforts.\n",
      "\n",
      "👉Social Graph-Based Occasion Marking and Relation Prediction:\n",
      "Leveraged the social graph to identify occasions and predict user relationships, facilitating personalized recommendations aligned with specific events or social connections.<!-- --></span>\n",
      "<!-- --> </div>\n",
      "</div>\n",
      "<!-- -->\n",
      "</div>\n",
      "</div>\n",
      "</li>\n",
      "</ul>\n",
      "<!-- --> </div>\n",
      "</li>\n",
      "</ul>\n",
      "<!-- --> </div>\n",
      "</div>\n",
      "<!-- -->\n",
      "<!-- --> </div>\n",
      "</li>\n",
      "<li class=\"SVHmlhIercRDFFsoHGEwZnnAjhwgdrFs\">\n",
      "<span class=\"vZtqUfnoMVOmWnQjNrZenFXdItZmWytuHU\"></span>\n",
      "<div class=\"NOVxeBqzUTiMyGzKNlzNoxeMplnHleBPxXg\" data-view-name=\"profile-component-entity\">\n",
      "<div>\n",
      "<div aria-hidden=\"true\" class=\"display-flex\" tabindex=\"-1\">\n",
      "<!-- -->\n",
      "</div>\n",
      "</div>\n",
      "<div class=\"display-flex flex-column align-self-center flex-grow-1\">\n",
      "<div class=\"display-flex flex-row justify-space-between\">\n",
      "<a class=\"optional-action-target-wrapper display-flex flex-column full-width\" href=\"https://www.linkedin.com/company/9402791/\" target=\"_self\">\n",
      "<div class=\"display-flex flex-wrap align-items-center full-height\">\n",
      "<div class=\"display-flex\">\n",
      "<div class=\"display-flex full-width\">\n",
      "<div class=\"display-flex align-items-center mr1 hoverable-link-text t-bold\">\n",
      "<span aria-hidden=\"true\"><!-- -->Data Science Manager<!-- --></span><span class=\"visually-hidden\"><!-- -->Data Science Manager<!-- --></span>\n",
      "</div>\n",
      "<!-- -->\n",
      "</div>\n",
      "</div>\n",
      "<!-- --><!-- --><!-- --> </div>\n",
      "<!-- --> <span class=\"t-14 t-normal t-black--light\">\n",
      "<span aria-hidden=\"true\" class=\"pvs-entity__caption-wrapper\"><!-- -->dez de 2019 - abr de 2021 · 1 ano 5 meses<!-- --></span><span class=\"visually-hidden\"><!-- -->De dez de 2019 até abr de 2021 · 1 ano 5 meses<!-- --></span>\n",
      "</span>\n",
      "<span class=\"t-14 t-normal t-black--light\">\n",
      "<span aria-hidden=\"true\"><!-- -->Bengaluru, Karnataka, India<!-- --></span><span class=\"visually-hidden\"><!-- -->Bengaluru, Karnataka, India<!-- --></span>\n",
      "</span>\n",
      "</a>\n",
      "</div>\n",
      "<div class=\"dHUqitTnphCSfxYmWgqCCFuTRDXlBvmfz pvs-entity__sub-components\">\n",
      "<!-- --> <ul class=\"mxIqWmQICBJjLNdqqrqHwGYznRPsapRCOL\">\n",
      "<li class=\"SVHmlhIercRDFFsoHGEwZnnAjhwgdrFs\">\n",
      "<div class=\"dHUqitTnphCSfxYmWgqCCFuTRDXlBvmfz\">\n",
      "<!-- --> <ul class=\"mxIqWmQICBJjLNdqqrqHwGYznRPsapRCOL\">\n",
      "<li class=\"pvs-list__item--with-top-padding SVHmlhIercRDFFsoHGEwZnnAjhwgdrFs\">\n",
      "<div class=\"display-flex\">\n",
      "<div class=\"display-flex full-width\">\n",
      "<div class=\"hMoFaupFIKgHumZUqQROwDXOxifNWOoZIFBDU full-width t-14 t-normal t-black display-flex align-items-center\" dir=\"ltr\">\n",
      "<div class=\"QHDgsnpTXXpHibFplWhsFsRXHoVIufJpRtF inline-show-more-text--is-collapsed inline-show-more-text--is-collapsed-with-line-clamp full-width\" dir=\"ltr\" style=\"-webkit-line-clamp:2;\" tabindex=\"-1\">\n",
      "<span aria-hidden=\"true\"><!-- -->Extraction of Syntactic and Semantic search queries. Machine learning models for query correction, product search, product ranking, user profiling, and revenue impact. Architecture for data flow, annotation, modeling, and deployment flow.<!-- --><br/><br/><!-- -->👉Marketing Email Subject Line Open Rate Predictor:<!-- --><br/><!-- -->Developed a predictive model to forecast open rates for marketing email subject lines, empowering the formulation of effective email campaign strategies and elevating customer engagement.<!-- --><br/><br/><!-- -->👉Extraction of Syntactic and Semantic Search Queries:<!-- --><br/><!-- -->Implemented machine learning models for the extraction of syntactic and semantic search queries, covering query correction, product search, product ranking, user profiling, and assessing revenue impact. Established an architecture for seamless data flow, annotation, modeling, and deployment.<!-- --><br/><br/><!-- -->👉AI-Powered Search at IGP.COM:<!-- --><br/><!-- -->- Implemented dynamic query suggestions and advanced 'BERT' Transformers algorithms for precise searches.<!-- --><br/><!-- -->- Enabled real-time syntactic and semantic analysis with adaptive typo tolerance and Hinglish spelling correction.<!-- --><br/><!-- -->- Applied AI-driven demographic filtering and intelligent synonym selection.<!-- --><br/><!-- -->- Achieved a 20% improvement in search conversion, a 25% enhancement in revenue generated by search, a 90% reduction in zero-result queries, and a 10% decrease in exit rates.<!-- --><br/><br/><!-- -->👉Graph-Powered Products Recommendation in Real-time:<!-- --><br/><!-- -->Introduced features such as \"People like you also buy,\" \"Frequently bought together,\" \"After viewing this, people bought,\" and \"Products based on your shopping trends\" for real-time, graph-powered product recommendations.<!-- --></span><span class=\"visually-hidden\"><!-- -->Extraction of Syntactic and Semantic search queries. Machine learning models for query correction, product search, product ranking, user profiling, and revenue impact. Architecture for data flow, annotation, modeling, and deployment flow.\n",
      "\n",
      "👉Marketing Email Subject Line Open Rate Predictor:\n",
      "Developed a predictive model to forecast open rates for marketing email subject lines, empowering the formulation of effective email campaign strategies and elevating customer engagement.\n",
      "\n",
      "👉Extraction of Syntactic and Semantic Search Queries:\n",
      "Implemented machine learning models for the extraction of syntactic and semantic search queries, covering query correction, product search, product ranking, user profiling, and assessing revenue impact. Established an architecture for seamless data flow, annotation, modeling, and deployment.\n",
      "\n",
      "👉AI-Powered Search at IGP.COM:\n",
      "- Implemented dynamic query suggestions and advanced 'BERT' Transformers algorithms for precise searches.\n",
      "- Enabled real-time syntactic and semantic analysis with adaptive typo tolerance and Hinglish spelling correction.\n",
      "- Applied AI-driven demographic filtering and intelligent synonym selection.\n",
      "- Achieved a 20% improvement in search conversion, a 25% enhancement in revenue generated by search, a 90% reduction in zero-result queries, and a 10% decrease in exit rates.\n",
      "\n",
      "👉Graph-Powered Products Recommendation in Real-time:\n",
      "Introduced features such as \"People like you also buy,\" \"Frequently bought together,\" \"After viewing this, people bought,\" and \"Products based on your shopping trends\" for real-time, graph-powered product recommendations.<!-- --></span>\n",
      "<!-- --> </div>\n",
      "</div>\n",
      "<!-- -->\n",
      "</div>\n",
      "</div>\n",
      "</li>\n",
      "</ul>\n",
      "<!-- --> </div>\n",
      "</li>\n",
      "</ul>\n",
      "<!-- --> </div>\n",
      "</div>\n",
      "<!-- -->\n",
      "<!-- --> </div>\n",
      "</li>\n",
      "</ul>\n",
      "<!-- --> </div>\n",
      "</div>\n",
      "<!-- -->\n",
      "<!-- --> </div>\n",
      "</li>\n",
      "<li class=\"artdeco-list__item EvXnOvTqclLcZzljLCsXFjUSWZktGvhKPnmx SVHmlhIercRDFFsoHGEwZnnAjhwgdrFs\">\n",
      "<!-- --> <div class=\"NOVxeBqzUTiMyGzKNlzNoxeMplnHleBPxXg KLSmGEzPYRZlNPwvkskRbDFmkwSUzHOWF lKCvJTGWPATTbkssvxYbotvDqkNLyY\" data-view-name=\"profile-component-entity\">\n",
      "<div>\n",
      "<a class=\"optional-action-target-wrapper display-flex\" data-field=\"experience_company_logo\" href=\"https://www.linkedin.com/company/13210749/\" target=\"_self\">\n",
      "<div class=\"ivm-image-view-model pvs-entity__image\">\n",
      "<div class=\"ivm-view-attr__img-wrapper\">\n",
      "<!-- -->\n",
      "<!-- --> <img alt=\"Logo da empresa mBreath\" class=\"ivm-view-attr__img--centered EntityPhoto-square-3 evi-image lazy-image ember-view\" height=\"48\" id=\"ember121\" loading=\"lazy\" src=\"https://media.licdn.com/dms/image/v2/C4D0BAQHTdClVT2AQyw/company-logo_100_100/company-logo_100_100/0/1631346277033?e=1746057600&amp;v=beta&amp;t=vu77zHQhI0dzjivSsxriqiA8CNzR1bTIu75fyTtwHpw\" width=\"48\"/>\n",
      "</div>\n",
      "</div>\n",
      "</a>\n",
      "</div>\n",
      "<div class=\"display-flex flex-column align-self-center flex-grow-1\">\n",
      "<div class=\"display-flex flex-row justify-space-between\">\n",
      "<a class=\"optional-action-target-wrapper display-flex flex-column full-width\" data-field=\"experience_company_logo\" href=\"https://www.linkedin.com/company/13210749/\" target=\"_self\">\n",
      "<div class=\"display-flex flex-wrap align-items-center full-height\">\n",
      "<div class=\"display-flex\">\n",
      "<div class=\"display-flex full-width\">\n",
      "<div class=\"display-flex align-items-center mr1 hoverable-link-text t-bold\">\n",
      "<span aria-hidden=\"true\"><!-- -->mBreath<!-- --></span><span class=\"visually-hidden\"><!-- -->mBreath<!-- --></span>\n",
      "</div>\n",
      "<!-- -->\n",
      "</div>\n",
      "</div>\n",
      "<!-- --><!-- --><!-- --> </div>\n",
      "<span class=\"t-14 t-normal\">\n",
      "<span aria-hidden=\"true\"><!-- -->3 a 4 m<!-- --></span><span class=\"visually-hidden\"><!-- -->3 a 4 m<!-- --></span>\n",
      "</span>\n",
      "<!-- --><!-- --> </a>\n",
      "</div>\n",
      "<div class=\"dHUqitTnphCSfxYmWgqCCFuTRDXlBvmfz pvs-entity__sub-components\">\n",
      "<!-- --> <ul class=\"mxIqWmQICBJjLNdqqrqHwGYznRPsapRCOL\">\n",
      "<li class=\"SVHmlhIercRDFFsoHGEwZnnAjhwgdrFs\">\n",
      "<span class=\"vZtqUfnoMVOmWnQjNrZenFXdItZmWytuHU\"></span>\n",
      "<div class=\"NOVxeBqzUTiMyGzKNlzNoxeMplnHleBPxXg xoLtPxfwvoHUpGGyYyaefXeuBVlmHPktOmA\" data-view-name=\"profile-component-entity\">\n",
      "<div>\n",
      "<div aria-hidden=\"true\" class=\"display-flex\" tabindex=\"-1\">\n",
      "<!-- -->\n",
      "</div>\n",
      "</div>\n",
      "<div class=\"display-flex flex-column align-self-center flex-grow-1\">\n",
      "<div class=\"display-flex flex-row justify-space-between\">\n",
      "<a class=\"optional-action-target-wrapper display-flex flex-column full-width\" href=\"https://www.linkedin.com/company/13210749/\" target=\"_self\">\n",
      "<div class=\"display-flex flex-wrap align-items-center full-height\">\n",
      "<div class=\"display-flex\">\n",
      "<div class=\"display-flex full-width\">\n",
      "<div class=\"display-flex align-items-center mr1 hoverable-link-text t-bold\">\n",
      "<span aria-hidden=\"true\"><!-- -->Co-Founder<!-- --></span><span class=\"visually-hidden\"><!-- -->Co-Founder<!-- --></span>\n",
      "</div>\n",
      "<!-- -->\n",
      "</div>\n",
      "</div>\n",
      "<!-- --><!-- --><!-- --> </div>\n",
      "<!-- --> <span class=\"t-14 t-normal t-black--light\">\n",
      "<span aria-hidden=\"true\" class=\"pvs-entity__caption-wrapper\"><!-- -->ago de 2016 - nov de 2019 · 3 anos 4 meses<!-- --></span><span class=\"visually-hidden\"><!-- -->De ago de 2016 até nov de 2019 · 3 anos 4 meses<!-- --></span>\n",
      "</span>\n",
      "<span class=\"t-14 t-normal t-black--light\">\n",
      "<span aria-hidden=\"true\"><!-- -->STEP, IIT Kharagpur<!-- --></span><span class=\"visually-hidden\"><!-- -->STEP, IIT Kharagpur<!-- --></span>\n",
      "</span>\n",
      "</a>\n",
      "</div>\n",
      "<div class=\"dHUqitTnphCSfxYmWgqCCFuTRDXlBvmfz pvs-entity__sub-components\">\n",
      "<!-- --> <ul class=\"mxIqWmQICBJjLNdqqrqHwGYznRPsapRCOL\">\n",
      "<li class=\"SVHmlhIercRDFFsoHGEwZnnAjhwgdrFs\">\n",
      "<div class=\"dHUqitTnphCSfxYmWgqCCFuTRDXlBvmfz\">\n",
      "<!-- --> <ul class=\"mxIqWmQICBJjLNdqqrqHwGYznRPsapRCOL\">\n",
      "<li class=\"pvs-list__item--with-top-padding SVHmlhIercRDFFsoHGEwZnnAjhwgdrFs\">\n",
      "<div class=\"display-flex\">\n",
      "<div class=\"display-flex full-width\">\n",
      "<div class=\"hMoFaupFIKgHumZUqQROwDXOxifNWOoZIFBDU full-width t-14 t-normal t-black display-flex align-items-center\" dir=\"ltr\">\n",
      "<div class=\"QHDgsnpTXXpHibFplWhsFsRXHoVIufJpRtF inline-show-more-text--is-collapsed inline-show-more-text--is-collapsed-with-line-clamp full-width\" dir=\"ltr\" style=\"-webkit-line-clamp:2;\" tabindex=\"-1\">\n",
      "<span aria-hidden=\"true\"><!-- -->There are some of the project which I did at mBreath.<!-- --><br/><!-- -->Real-Time Human Vital Parameter Estimation Using Pressure Sensor and Machine Learning<!-- --><br/><!-- -->Measured respiration and heart rate through an array of pressure sensors and Deep Learning (CNN, RNN-LSTM) algorithms. [Filed Patent Ref No. 201731038573]. 96% accuracy was achieved. The project had three stages 1) preprocessing with analog filters, 2) Digital Signal Processing, 3) Machine Learning model thereafter data is uploaded to the cloud for further processing.<!-- --><br/><br/><!-- -->Real-time Classification of Environmental Sounds &amp; Their Impacts on Sleep Quality<!-- --><br/><!-- -->Collected audio using a microphone and Qualcomm’s Snapdragon processor enabled custom-built board running Android 6.0. Audio Cleaning, Feature Extraction (more than 700 features) in Temporal, Spectral, Energy, Harmonic, and Cepstral domain, Feature Selection for faster training and better accuracy and ML models (CNN, LSTM, RF, SVM) are designed to classify snoring and other sound and their impact on sleep quality.<!-- --><br/><br/><!-- -->A Real-Time System and Methods for the Detection of Sleep Apnea and Sleep Stage<!-- --><br/><!-- -->Used CNN, Inception, LSTM, CNN-LSTM models to estimate Sleep Apnea and Sleep Stages using the respiration signal only. The training data was obtained from MESA, National Sleep Research Resource, USA. I did data cleaning and balancing thereafter feature engineering and selection were done before applying the ML model. Achieved 82.7% accuracy in Sleep Apnea which is higher than any known methods applied on respiration signal in MESA Dataset and achieved more than 80% accuracy in sleep stage classification which can be considered as good accuracy.<!-- --><br/><br/><!-- -->Visit:<!-- --><br/><!-- -->http://www.sleepdoc.ai<!-- --><br/><!-- -->http://www.facebook.com/mBreathOfficial<!-- --><br/><!-- -->http://www.twitter.com/mBreathOfficial<!-- --></span><span class=\"visually-hidden\"><!-- -->There are some of the project which I did at mBreath.\n",
      "Real-Time Human Vital Parameter Estimation Using Pressure Sensor and Machine Learning\n",
      "Measured respiration and heart rate through an array of pressure sensors and Deep Learning (CNN, RNN-LSTM) algorithms. [Filed Patent Ref No. 201731038573]. 96% accuracy was achieved. The project had three stages 1) preprocessing with analog filters, 2) Digital Signal Processing, 3) Machine Learning model thereafter data is uploaded to the cloud for further processing.\n",
      "\n",
      "Real-time Classification of Environmental Sounds &amp; Their Impacts on Sleep Quality\n",
      "Collected audio using a microphone and Qualcomm’s Snapdragon processor enabled custom-built board running Android 6.0. Audio Cleaning, Feature Extraction (more than 700 features) in Temporal, Spectral, Energy, Harmonic, and Cepstral domain, Feature Selection for faster training and better accuracy and ML models (CNN, LSTM, RF, SVM) are designed to classify snoring and other sound and their impact on sleep quality.\n",
      "\n",
      "A Real-Time System and Methods for the Detection of Sleep Apnea and Sleep Stage\n",
      "Used CNN, Inception, LSTM, CNN-LSTM models to estimate Sleep Apnea and Sleep Stages using the respiration signal only. The training data was obtained from MESA, National Sleep Research Resource, USA. I did data cleaning and balancing thereafter feature engineering and selection were done before applying the ML model. Achieved 82.7% accuracy in Sleep Apnea which is higher than any known methods applied on respiration signal in MESA Dataset and achieved more than 80% accuracy in sleep stage classification which can be considered as good accuracy.\n",
      "\n",
      "Visit:\n",
      "http://www.sleepdoc.ai\n",
      "http://www.facebook.com/mBreathOfficial\n",
      "http://www.twitter.com/mBreathOfficial<!-- --></span>\n",
      "<!-- --> </div>\n",
      "</div>\n",
      "<!-- -->\n",
      "</div>\n",
      "</div>\n",
      "</li>\n",
      "</ul>\n",
      "<!-- --> </div>\n",
      "</li>\n",
      "<li class=\"SVHmlhIercRDFFsoHGEwZnnAjhwgdrFs\">\n",
      "<div class=\"dHUqitTnphCSfxYmWgqCCFuTRDXlBvmfz\">\n",
      "<!-- --> <ul class=\"mxIqWmQICBJjLNdqqrqHwGYznRPsapRCOL\">\n",
      "<li class=\"pvs-list__item--with-top-padding SVHmlhIercRDFFsoHGEwZnnAjhwgdrFs\">\n",
      "<a class=\"optional-action-target-wrapper\" href=\"https://www.linkedin.com/in/laxmimerit/overlay/1531653346890/single-media-viewer?type=DOCUMENT&amp;profileId=ACoAAA63c-MBkR3bQ8umsXdNuv5G-Bs7u6Caco0\" target=\"_self\">\n",
      "<div class=\"display-flex flex-row\">\n",
      "<div>\n",
      "<div aria-label=\"Miniatura para These IITians say ‘stop losing sleep over sleep,’ develop smart sleep assistant SleepDoc+\" class=\"pvs-thumbnail__wrapper\">\n",
      "<figure class=\"pvs-thumbnail\">\n",
      "<svg aria-hidden=\"true\" data-supported-dps=\"24x24\" data-test-icon=\"image-medium\" height=\"24\" role=\"none\" viewbox=\"0 0 24 24\" width=\"24\" xmlns=\"http://www.w3.org/2000/svg\">\n",
      "<!-- -->\n",
      "<use height=\"24\" href=\"#image-medium\" width=\"24\"></use>\n",
      "</svg>\n",
      "<!-- -->\n",
      "<!-- --> </figure>\n",
      "</div>\n",
      "</div>\n",
      "<div class=\"flex-column ml1 align-self-center\">\n",
      "<div class=\"QHDgsnpTXXpHibFplWhsFsRXHoVIufJpRtF inline-show-more-text--is-collapsed inline-show-more-text--is-collapsed-with-line-clamp t-14 t-bold break-words\" dir=\"ltr\" style=\"-webkit-line-clamp:2;\" tabindex=\"-1\">\n",
      "<span aria-hidden=\"true\"><!-- -->These IITians say ‘stop losing sleep over sleep,’ develop smart sleep assistant SleepDoc+<!-- --></span><span class=\"visually-hidden\"><!-- -->These IITians say ‘stop losing sleep over sleep,’ develop smart sleep assistant SleepDoc+<!-- --></span>\n",
      "<!-- --> </div>\n",
      "<div class=\"display-flex\">\n",
      "<div class=\"display-flex full-width\">\n",
      "<div class=\"hMoFaupFIKgHumZUqQROwDXOxifNWOoZIFBDU full-width t-14 t-normal t-black display-flex align-items-center\" dir=\"ltr\">\n",
      "<div class=\"QHDgsnpTXXpHibFplWhsFsRXHoVIufJpRtF inline-show-more-text--is-collapsed inline-show-more-text--is-collapsed-with-line-clamp full-width\" dir=\"ltr\" style=\"-webkit-line-clamp:2;\" tabindex=\"-1\">\n",
      "<span aria-hidden=\"true\"><!-- -->Incubated by IIT-Kharagpur and Qualcomm, mBreath Technologies’ first offering SleepDoc+ determines the sleep quality of the user, analyses and provides insightful data. The product is all set to hit t...<!-- --></span><span class=\"visually-hidden\"><!-- -->Incubated by IIT-Kharagpur and Qualcomm, mBreath Technologies’ first offering SleepDoc+ determines the sleep quality of the user, analyses and provides insightful data. The product is all set to hit t...<!-- --></span>\n",
      "<!-- --> </div>\n",
      "</div>\n",
      "<!-- -->\n",
      "</div>\n",
      "</div>\n",
      "</div>\n",
      "</div>\n",
      "</a>\n",
      "</li>\n",
      "</ul>\n",
      "<!-- --> </div>\n",
      "</li>\n",
      "</ul>\n",
      "<!-- --> </div>\n",
      "</div>\n",
      "<!-- -->\n",
      "<!-- --> </div>\n",
      "</li>\n",
      "<li class=\"SVHmlhIercRDFFsoHGEwZnnAjhwgdrFs\">\n",
      "<span class=\"vZtqUfnoMVOmWnQjNrZenFXdItZmWytuHU\"></span>\n",
      "<div class=\"NOVxeBqzUTiMyGzKNlzNoxeMplnHleBPxXg\" data-view-name=\"profile-component-entity\">\n",
      "<div>\n",
      "<div aria-hidden=\"true\" class=\"display-flex\" tabindex=\"-1\">\n",
      "<!-- -->\n",
      "</div>\n",
      "</div>\n",
      "<div class=\"display-flex flex-column align-self-center flex-grow-1\">\n",
      "<div class=\"display-flex flex-row justify-space-between\">\n",
      "<a class=\"optional-action-target-wrapper display-flex flex-column full-width\" href=\"https://www.linkedin.com/company/13210749/\" target=\"_self\">\n",
      "<div class=\"display-flex flex-wrap align-items-center full-height\">\n",
      "<div class=\"display-flex\">\n",
      "<div class=\"display-flex full-width\">\n",
      "<div class=\"display-flex align-items-center mr1 hoverable-link-text t-bold\">\n",
      "<span aria-hidden=\"true\"><!-- -->Data Scientist<!-- --></span><span class=\"visually-hidden\"><!-- -->Data Scientist<!-- --></span>\n",
      "</div>\n",
      "<!-- -->\n",
      "</div>\n",
      "</div>\n",
      "<!-- --><!-- --><!-- --> </div>\n",
      "<!-- --> <span class=\"t-14 t-normal t-black--light\">\n",
      "<span aria-hidden=\"true\" class=\"pvs-entity__caption-wrapper\"><!-- -->ago de 2016 - nov de 2019 · 3 anos 4 meses<!-- --></span><span class=\"visually-hidden\"><!-- -->De ago de 2016 até nov de 2019 · 3 anos 4 meses<!-- --></span>\n",
      "</span>\n",
      "<span class=\"t-14 t-normal t-black--light\">\n",
      "<span aria-hidden=\"true\"><!-- -->Bangalore<!-- --></span><span class=\"visually-hidden\"><!-- -->Bangalore<!-- --></span>\n",
      "</span>\n",
      "</a>\n",
      "</div>\n",
      "<div class=\"dHUqitTnphCSfxYmWgqCCFuTRDXlBvmfz pvs-entity__sub-components\">\n",
      "<!-- --> <ul class=\"mxIqWmQICBJjLNdqqrqHwGYznRPsapRCOL\">\n",
      "<li class=\"SVHmlhIercRDFFsoHGEwZnnAjhwgdrFs\">\n",
      "<div class=\"dHUqitTnphCSfxYmWgqCCFuTRDXlBvmfz\">\n",
      "<!-- --> <ul class=\"mxIqWmQICBJjLNdqqrqHwGYznRPsapRCOL\">\n",
      "<li class=\"pvs-list__item--with-top-padding SVHmlhIercRDFFsoHGEwZnnAjhwgdrFs\">\n",
      "<div class=\"display-flex\">\n",
      "<div class=\"display-flex full-width\">\n",
      "<div class=\"hMoFaupFIKgHumZUqQROwDXOxifNWOoZIFBDU full-width t-14 t-normal t-black display-flex align-items-center\" dir=\"ltr\">\n",
      "<div class=\"QHDgsnpTXXpHibFplWhsFsRXHoVIufJpRtF inline-show-more-text--is-collapsed inline-show-more-text--is-collapsed-with-line-clamp full-width\" dir=\"ltr\" style=\"-webkit-line-clamp:2;\" tabindex=\"-1\">\n",
      "<span aria-hidden=\"true\"><!-- -->Developed two end-to-end products \"Smart Wireless System and Method for Human Health Monitoring Using Doppler Radar“ [Filed Patent Ref. No. 201731038573]  and \"Smart Sleep Sense System For Human Health Monitoring And Screening Using Velostat Pressure Sensor\" [Filed Patent Ref. 01731041913 ]<!-- --><br/><br/><!-- -->Worked on multiple fronts including Business Model Development, Customer Acquisition, Market Analysis, Product Feasibility Analysis, and Customer Segmentation and Satisfaction analysis while working as Data Scientist<!-- --><br/><br/><!-- -->Studied Socio and Economic Impact of healthcare and Sleep Disorder in the US market<span class=\"white-space-pre\"> </span><br/><!-- -->Did cost optimization while designing the product SleepDoc by keeping time-to-market in mind<!-- --><br/><br/><!-- -->Having experience in working with GitHub and Bitbucket for code management.<!-- --><br/><br/><!-- -->Used Deep Learning (CNN, LSTM, CNN-LSTM, Inception, VGGs), Machine Learning models (Logistic Regression, Random Forest, SVM, and XGBoost), and Feature Selection for real-time audio analysis and classification, sleep apnea detection, sleep stage detection, snoring detection.<!-- --><br/><br/><!-- -->Developed SleepDoc, SleepDoc uses the FMCW RADAR system to measure respiration and heart rate. Designed Android Application and state-of-the-art ML Algorithms (SVM, RF, CNN, LSTM, CNN-LSTM, Inception) to measure vital parameters. [Filed Patent Ref No. 201731038573]. The 99% accuracy was achieved in Respiration and Heart Rate measurement with 30-sec epochs. Deep learning models were trained on the Google Cloud Platform (GCP) with Tensorflow-GPU.<!-- --><br/><br/><!-- -->Successfully achieved kernel changes into Android OS to read data on Qualcomm’s Snapdragon processor using SPI, I2C, and UART. Interfaced Java and custom module coded in C-Language in Android 6.0.<!-- --><br/><br/><!-- -->Designed my own email marketing software for the marketing of SleepDoc. Used AWS Boto3 Python, AWS SES, SNS, SQS, AWS Lambda, DynamoDB, and PyQt5. Written code for automatic email and phone number extractor crawler.<!-- --><br/></span><span class=\"visually-hidden\"><!-- -->Developed two end-to-end products \"Smart Wireless System and Method for Human Health Monitoring Using Doppler Radar“ [Filed Patent Ref. No. 201731038573]  and \"Smart Sleep Sense System For Human Health Monitoring And Screening Using Velostat Pressure Sensor\" [Filed Patent Ref. 01731041913 ]\n",
      "\n",
      "Worked on multiple fronts including Business Model Development, Customer Acquisition, Market Analysis, Product Feasibility Analysis, and Customer Segmentation and Satisfaction analysis while working as Data Scientist\n",
      "\n",
      "Studied Socio and Economic Impact of healthcare and Sleep Disorder in the US market \n",
      "Did cost optimization while designing the product SleepDoc by keeping time-to-market in mind\n",
      "\n",
      "Having experience in working with GitHub and Bitbucket for code management.\n",
      "\n",
      "Used Deep Learning (CNN, LSTM, CNN-LSTM, Inception, VGGs), Machine Learning models (Logistic Regression, Random Forest, SVM, and XGBoost), and Feature Selection for real-time audio analysis and classification, sleep apnea detection, sleep stage detection, snoring detection.\n",
      "\n",
      "Developed SleepDoc, SleepDoc uses the FMCW RADAR system to measure respiration and heart rate. Designed Android Application and state-of-the-art ML Algorithms (SVM, RF, CNN, LSTM, CNN-LSTM, Inception) to measure vital parameters. [Filed Patent Ref No. 201731038573]. The 99% accuracy was achieved in Respiration and Heart Rate measurement with 30-sec epochs. Deep learning models were trained on the Google Cloud Platform (GCP) with Tensorflow-GPU.\n",
      "\n",
      "Successfully achieved kernel changes into Android OS to read data on Qualcomm’s Snapdragon processor using SPI, I2C, and UART. Interfaced Java and custom module coded in C-Language in Android 6.0.\n",
      "\n",
      "Designed my own email marketing software for the marketing of SleepDoc. Used AWS Boto3 Python, AWS SES, SNS, SQS, AWS Lambda, DynamoDB, and PyQt5. Written code for automatic email and phone number extractor crawler.<span class=\"white-space-pre\"> </span></span>\n",
      "<!-- --> </div>\n",
      "</div>\n",
      "<!-- -->\n",
      "</div>\n",
      "</div>\n",
      "</li>\n",
      "</ul>\n",
      "<!-- --> </div>\n",
      "</li>\n",
      "</ul>\n",
      "<!-- --> </div>\n",
      "</div>\n",
      "<!-- -->\n",
      "<!-- --> </div>\n",
      "</li>\n",
      "</ul>\n",
      "<!-- --> </div>\n",
      "</div>\n",
      "<!-- -->\n",
      "<!-- --> </div>\n",
      "</li>\n",
      "<li class=\"artdeco-list__item EvXnOvTqclLcZzljLCsXFjUSWZktGvhKPnmx SVHmlhIercRDFFsoHGEwZnnAjhwgdrFs\">\n",
      "<!-- --> <div class=\"NOVxeBqzUTiMyGzKNlzNoxeMplnHleBPxXg KLSmGEzPYRZlNPwvkskRbDFmkwSUzHOWF lKCvJTGWPATTbkssvxYbotvDqkNLyY\" data-view-name=\"profile-component-entity\">\n",
      "<div>\n",
      "<a class=\"optional-action-target-wrapper display-flex\" data-field=\"experience_company_logo\" href=\"https://www.linkedin.com/company/157265/\" target=\"_self\">\n",
      "<div class=\"ivm-image-view-model pvs-entity__image\">\n",
      "<div class=\"ivm-view-attr__img-wrapper\">\n",
      "<!-- -->\n",
      "<!-- --> <img alt=\"Logo da empresa Indian Institute of Technology, Kharagpur\" class=\"ivm-view-attr__img--centered EntityPhoto-square-3 evi-image lazy-image ember-view\" height=\"48\" id=\"ember137\" loading=\"lazy\" src=\"https://media.licdn.com/dms/image/v2/C4D0BAQE0lxIeTKBTAw/company-logo_100_100/company-logo_100_100/0/1661239083431/indian_institute_of_technology_kharagpur_logo?e=1746057600&amp;v=beta&amp;t=1s02Y9UFohFPNR6CJHwn4H5FRs5ifQlnQnag2eYcnFM\" width=\"48\"/>\n",
      "</div>\n",
      "</div>\n",
      "</a>\n",
      "</div>\n",
      "<div class=\"display-flex flex-column align-self-center flex-grow-1\">\n",
      "<div class=\"display-flex flex-row justify-space-between\">\n",
      "<a class=\"optional-action-target-wrapper display-flex flex-column full-width\" data-field=\"experience_company_logo\" href=\"https://www.linkedin.com/company/157265/\" target=\"_self\">\n",
      "<div class=\"display-flex flex-wrap align-items-center full-height\">\n",
      "<div class=\"display-flex\">\n",
      "<div class=\"display-flex full-width\">\n",
      "<div class=\"display-flex align-items-center mr1 hoverable-link-text t-bold\">\n",
      "<span aria-hidden=\"true\"><!-- -->Indian Institute of Technology, Kharagpur<!-- --></span><span class=\"visually-hidden\"><!-- -->Indian Institute of Technology, Kharagpur<!-- --></span>\n",
      "</div>\n",
      "<!-- -->\n",
      "</div>\n",
      "</div>\n",
      "<!-- --><!-- --><!-- --> </div>\n",
      "<span class=\"t-14 t-normal\">\n",
      "<span aria-hidden=\"true\"><!-- -->4 a 8 m<!-- --></span><span class=\"visually-hidden\"><!-- -->4 a 8 m<!-- --></span>\n",
      "</span>\n",
      "<!-- --><!-- --> </a>\n",
      "</div>\n",
      "<div class=\"dHUqitTnphCSfxYmWgqCCFuTRDXlBvmfz pvs-entity__sub-components\">\n",
      "<!-- --> <ul class=\"mxIqWmQICBJjLNdqqrqHwGYznRPsapRCOL\">\n",
      "<li class=\"SVHmlhIercRDFFsoHGEwZnnAjhwgdrFs\">\n",
      "<span class=\"vZtqUfnoMVOmWnQjNrZenFXdItZmWytuHU\"></span>\n",
      "<div class=\"NOVxeBqzUTiMyGzKNlzNoxeMplnHleBPxXg xoLtPxfwvoHUpGGyYyaefXeuBVlmHPktOmA\" data-view-name=\"profile-component-entity\">\n",
      "<div>\n",
      "<div aria-hidden=\"true\" class=\"display-flex\" tabindex=\"-1\">\n",
      "<!-- -->\n",
      "</div>\n",
      "</div>\n",
      "<div class=\"display-flex flex-column align-self-center flex-grow-1\">\n",
      "<div class=\"display-flex flex-row justify-space-between\">\n",
      "<a class=\"optional-action-target-wrapper display-flex flex-column full-width\" href=\"https://www.linkedin.com/company/157265/\" target=\"_self\">\n",
      "<div class=\"display-flex flex-wrap align-items-center full-height\">\n",
      "<div class=\"display-flex\">\n",
      "<div class=\"display-flex full-width\">\n",
      "<div class=\"display-flex align-items-center mr1 hoverable-link-text t-bold\">\n",
      "<span aria-hidden=\"true\"><!-- -->Student<!-- --></span><span class=\"visually-hidden\"><!-- -->Student<!-- --></span>\n",
      "</div>\n",
      "<!-- -->\n",
      "</div>\n",
      "</div>\n",
      "<!-- --><!-- --><!-- --> </div>\n",
      "<!-- --> <span class=\"t-14 t-normal t-black--light\">\n",
      "<span aria-hidden=\"true\" class=\"pvs-entity__caption-wrapper\"><!-- -->jul de 2012 - fev de 2017 · 4 anos 8 meses<!-- --></span><span class=\"visually-hidden\"><!-- -->De jul de 2012 até fev de 2017 · 4 anos 8 meses<!-- --></span>\n",
      "</span>\n",
      "<span class=\"t-14 t-normal t-black--light\">\n",
      "<span aria-hidden=\"true\"><!-- -->Kharagpur, India<!-- --></span><span class=\"visually-hidden\"><!-- -->Kharagpur, India<!-- --></span>\n",
      "</span>\n",
      "</a>\n",
      "</div>\n",
      "<!-- --> </div>\n",
      "<!-- -->\n",
      "<!-- --> </div>\n",
      "</li>\n",
      "<li class=\"SVHmlhIercRDFFsoHGEwZnnAjhwgdrFs\">\n",
      "<span class=\"vZtqUfnoMVOmWnQjNrZenFXdItZmWytuHU\"></span>\n",
      "<div class=\"NOVxeBqzUTiMyGzKNlzNoxeMplnHleBPxXg xoLtPxfwvoHUpGGyYyaefXeuBVlmHPktOmA\" data-view-name=\"profile-component-entity\">\n",
      "<div>\n",
      "<div aria-hidden=\"true\" class=\"display-flex\" tabindex=\"-1\">\n",
      "<!-- -->\n",
      "</div>\n",
      "</div>\n",
      "<div class=\"display-flex flex-column align-self-center flex-grow-1\">\n",
      "<div class=\"display-flex flex-row justify-space-between\">\n",
      "<a class=\"optional-action-target-wrapper display-flex flex-column full-width\" href=\"https://www.linkedin.com/company/157265/\" target=\"_self\">\n",
      "<div class=\"display-flex flex-wrap align-items-center full-height\">\n",
      "<div class=\"display-flex\">\n",
      "<div class=\"display-flex full-width\">\n",
      "<div class=\"display-flex align-items-center mr1 hoverable-link-text t-bold\">\n",
      "<span aria-hidden=\"true\"><!-- -->Teacher Assistant<!-- --></span><span class=\"visually-hidden\"><!-- -->Teacher Assistant<!-- --></span>\n",
      "</div>\n",
      "<!-- -->\n",
      "</div>\n",
      "</div>\n",
      "<!-- --><!-- --><!-- --> </div>\n",
      "<!-- --> <span class=\"t-14 t-normal t-black--light\">\n",
      "<span aria-hidden=\"true\" class=\"pvs-entity__caption-wrapper\"><!-- -->jan de 2013 - jan de 2017 · 4 anos 1 mês<!-- --></span><span class=\"visually-hidden\"><!-- -->De jan de 2013 até jan de 2017 · 4 anos 1 mês<!-- --></span>\n",
      "</span>\n",
      "<span class=\"t-14 t-normal t-black--light\">\n",
      "<span aria-hidden=\"true\"><!-- -->IIT Kharagpur<!-- --></span><span class=\"visually-hidden\"><!-- -->IIT Kharagpur<!-- --></span>\n",
      "</span>\n",
      "</a>\n",
      "</div>\n",
      "<div class=\"dHUqitTnphCSfxYmWgqCCFuTRDXlBvmfz pvs-entity__sub-components\">\n",
      "<!-- --> <ul class=\"mxIqWmQICBJjLNdqqrqHwGYznRPsapRCOL\">\n",
      "<li class=\"SVHmlhIercRDFFsoHGEwZnnAjhwgdrFs\">\n",
      "<div class=\"dHUqitTnphCSfxYmWgqCCFuTRDXlBvmfz\">\n",
      "<!-- --> <ul class=\"mxIqWmQICBJjLNdqqrqHwGYznRPsapRCOL\">\n",
      "<li class=\"pvs-list__item--with-top-padding SVHmlhIercRDFFsoHGEwZnnAjhwgdrFs\">\n",
      "<div class=\"display-flex\">\n",
      "<div class=\"display-flex full-width\">\n",
      "<div class=\"hMoFaupFIKgHumZUqQROwDXOxifNWOoZIFBDU full-width t-14 t-normal t-black display-flex align-items-center\" dir=\"ltr\">\n",
      "<div class=\"QHDgsnpTXXpHibFplWhsFsRXHoVIufJpRtF inline-show-more-text--is-collapsed inline-show-more-text--is-collapsed-with-line-clamp full-width\" dir=\"ltr\" style=\"-webkit-line-clamp:2;\" tabindex=\"-1\">\n",
      "<span aria-hidden=\"true\"><!-- -->It was a great experience to teach Embedded Systems. The objective of the teaching is the implementation of the adaptive filter on embedded hardware and software.<!-- --><br/><!-- -->Implementation of the DSP algorithms was done in Assembly language. Students get comprehensive knowledge of Embedded System and IoT.<span class=\"white-space-pre\"> </span></span><span class=\"visually-hidden\"><!-- -->It was a great experience to teach Embedded Systems. The objective of the teaching is the implementation of the adaptive filter on embedded hardware and software.\n",
      "Implementation of the DSP algorithms was done in Assembly language. Students get comprehensive knowledge of Embedded System and IoT.<span class=\"white-space-pre\"> </span></span>\n",
      "<!-- --> </div>\n",
      "</div>\n",
      "<!-- -->\n",
      "</div>\n",
      "</div>\n",
      "</li>\n",
      "</ul>\n",
      "<!-- --> </div>\n",
      "</li>\n",
      "</ul>\n",
      "<!-- --> </div>\n",
      "</div>\n",
      "<!-- -->\n",
      "<!-- --> </div>\n",
      "</li>\n",
      "<li class=\"SVHmlhIercRDFFsoHGEwZnnAjhwgdrFs\">\n",
      "<span class=\"vZtqUfnoMVOmWnQjNrZenFXdItZmWytuHU\"></span>\n",
      "<div class=\"NOVxeBqzUTiMyGzKNlzNoxeMplnHleBPxXg\" data-view-name=\"profile-component-entity\">\n",
      "<div>\n",
      "<div aria-hidden=\"true\" class=\"display-flex\" tabindex=\"-1\">\n",
      "<!-- -->\n",
      "</div>\n",
      "</div>\n",
      "<div class=\"display-flex flex-column align-self-center flex-grow-1\">\n",
      "<div class=\"display-flex flex-row justify-space-between\">\n",
      "<a class=\"optional-action-target-wrapper display-flex flex-column full-width\" href=\"https://www.linkedin.com/company/157265/\" target=\"_self\">\n",
      "<div class=\"display-flex flex-wrap align-items-center full-height\">\n",
      "<div class=\"display-flex\">\n",
      "<div class=\"display-flex full-width\">\n",
      "<div class=\"display-flex align-items-center mr1 hoverable-link-text t-bold\">\n",
      "<span aria-hidden=\"true\"><!-- -->M.Tech<!-- --></span><span class=\"visually-hidden\"><!-- -->M.Tech<!-- --></span>\n",
      "</div>\n",
      "<!-- -->\n",
      "</div>\n",
      "</div>\n",
      "<!-- --><!-- --><!-- --> </div>\n",
      "<!-- --> <span class=\"t-14 t-normal t-black--light\">\n",
      "<span aria-hidden=\"true\" class=\"pvs-entity__caption-wrapper\"><!-- -->jul de 2012 - jun de 2014 · 2 anos<!-- --></span><span class=\"visually-hidden\"><!-- -->De jul de 2012 até jun de 2014 · 2 anos<!-- --></span>\n",
      "</span>\n",
      "<span class=\"t-14 t-normal t-black--light\">\n",
      "<span aria-hidden=\"true\"><!-- -->IIT Kharagpur<!-- --></span><span class=\"visually-hidden\"><!-- -->IIT Kharagpur<!-- --></span>\n",
      "</span>\n",
      "</a>\n",
      "</div>\n",
      "<!-- --> </div>\n",
      "<!-- -->\n",
      "<!-- --> </div>\n",
      "</li>\n",
      "</ul>\n",
      "<!-- --> </div>\n",
      "</div>\n",
      "<!-- -->\n",
      "<!-- --> </div>\n",
      "</li>\n",
      "</ul>\n",
      "<!-- --> </div>\n",
      "<!-- -->\n",
      "</section>\n"
     ]
    }
   ],
   "source": [
    "for sec in sections:\n",
    "    if sec.find('div', {'id': 'experience'}):\n",
    "        experience = sec\n",
    "\n",
    "print(experience)\n",
    "#print(experience.get_text().strip())\n"
   ]
  },
  {
   "cell_type": "code",
   "execution_count": 88,
   "metadata": {},
   "outputs": [],
   "source": [
    "experience = experience.find_all('div', {'class': 'gFJNglFOnyZmIAbxVkrWpQCmMhGSasZRfRtGlFg YcvguSXGGYgEmpWJOhQrhmNocNiIvvDjETE bAMoJMoZyFCvvmHkHNQEBnMuJTWUocrss'})"
   ]
  },
  {
   "cell_type": "code",
   "execution_count": 89,
   "metadata": {},
   "outputs": [
    {
     "data": {
      "text/plain": [
       "0"
      ]
     },
     "execution_count": 89,
     "metadata": {},
     "output_type": "execute_result"
    }
   ],
   "source": [
    "len(experience)"
   ]
  },
  {
   "cell_type": "code",
   "execution_count": 26,
   "metadata": {},
   "outputs": [
    {
     "ename": "IndexError",
     "evalue": "list index out of range",
     "output_type": "error",
     "traceback": [
      "\u001b[0;31m---------------------------------------------------------------------------\u001b[0m",
      "\u001b[0;31mIndexError\u001b[0m                                Traceback (most recent call last)",
      "Cell \u001b[0;32mIn[26], line 1\u001b[0m\n\u001b[0;32m----> 1\u001b[0m exp \u001b[38;5;241m=\u001b[39m \u001b[43mexperience\u001b[49m\u001b[43m[\u001b[49m\u001b[38;5;241;43m0\u001b[39;49m\u001b[43m]\u001b[49m\n",
      "\u001b[0;31mIndexError\u001b[0m: list index out of range"
     ]
    }
   ],
   "source": [
    "exp = experience[0]"
   ]
  },
  {
   "cell_type": "code",
   "execution_count": 59,
   "metadata": {},
   "outputs": [],
   "source": [
    "def get_exp(exp):\n",
    "\n",
    "    exp_dict = {}\n",
    "\n",
    "    name = exp.find('div', {'class': 'display-flex flex-wrap align-items-center full-height'})\n",
    "    name = name.find('span', {'class': 'visually-hidden'})\n",
    "    name = name.get_text().strip()\n",
    "\n",
    "    duration = exp.find('span', {'class': 't-14 t-normal'})\n",
    "    duration = duration.find('span', {'class': 'visually-hidden'})\n",
    "    duration = duration.get_text().strip()\n",
    "    duration\n",
    "\n",
    "    exp_dict['company_name'] = name\n",
    "    exp_dict['duration'] = duration\n",
    "\n",
    "    designations = exp.find_all('div', {'class': 'gFJNglFOnyZmIAbxVkrWpQCmMhGSasZRfRtGlFg'})\n",
    "\n",
    "    item_list = []\n",
    "    for position in designations:\n",
    "        spans = position.find_all('span', {'class': 'visually-hidden'})\n",
    "\n",
    "        item_dict = {}\n",
    "        item_dict['designation'] = spans[0].get_text().strip()\n",
    "        item_dict['duration'] = spans[1].get_text().strip()\n",
    "        item_dict['location'] = spans[2].get_text().strip()\n",
    "\n",
    "        try:\n",
    "            item_dict['projects'] = spans[3].get_text().strip()\n",
    "        except:\n",
    "            item_dict['projects'] = \"\"\n",
    "\n",
    "        item_list.append(item_dict)\n",
    "\n",
    "\n",
    "    exp_dict['designations'] = item_list\n",
    "\n",
    "    return exp_dict\n",
    "\n",
    "item_list = []\n",
    "for exp in experience:\n",
    "    item_list.append(get_exp(exp))"
   ]
  },
  {
   "cell_type": "code",
   "execution_count": 61,
   "metadata": {},
   "outputs": [],
   "source": [
    "profile_data['experience'] = item_list\n"
   ]
  },
  {
   "cell_type": "code",
   "execution_count": 63,
   "metadata": {},
   "outputs": [],
   "source": [
    "# profile_data"
   ]
  },
  {
   "cell_type": "markdown",
   "metadata": {},
   "source": [
    "### Education"
   ]
  },
  {
   "cell_type": "code",
   "execution_count": 90,
   "metadata": {},
   "outputs": [],
   "source": [
    "for sec in sections:\n",
    "    if sec.find('div', {'id': 'education'}):\n",
    "        educations = sec"
   ]
  },
  {
   "cell_type": "code",
   "execution_count": 91,
   "metadata": {},
   "outputs": [],
   "source": [
    "# educations.get_text().strip()"
   ]
  },
  {
   "cell_type": "code",
   "execution_count": 92,
   "metadata": {},
   "outputs": [],
   "source": [
    "items = educations.find_all('div', {'class': 'gFJNglFOnyZmIAbxVkrWpQCmMhGSasZRfRtGlFg YcvguSXGGYgEmpWJOhQrhmNocNiIvvDjETE bAMoJMoZyFCvvmHkHNQEBnMuJTWUocrss'})"
   ]
  },
  {
   "cell_type": "code",
   "execution_count": 93,
   "metadata": {},
   "outputs": [
    {
     "data": {
      "text/plain": [
       "0"
      ]
     },
     "execution_count": 93,
     "metadata": {},
     "output_type": "execute_result"
    }
   ],
   "source": [
    "len(items)"
   ]
  },
  {
   "cell_type": "code",
   "execution_count": 94,
   "metadata": {},
   "outputs": [],
   "source": [
    "def get_edu(item):\n",
    "    item_dict = {}\n",
    "    spans = item.find_all('span', {'class': 'visually-hidden'})\n",
    "\n",
    "    item_dict['college'] = spans[0].get_text().strip()\n",
    "    item_dict['degree'] = spans[1].get_text().strip()\n",
    "    item_dict['duration'] = spans[2].get_text().strip()\n",
    "    item_dict['project'] = spans[3].get_text().strip()\n",
    "\n",
    "    return item_dict\n",
    "\n",
    "item_list = []\n",
    "for item in items:\n",
    "    item_list.append(get_edu(item))\n",
    "\n",
    "profile_data['education'] = item_list\n"
   ]
  },
  {
   "cell_type": "code",
   "execution_count": 96,
   "metadata": {},
   "outputs": [
    {
     "data": {
      "text/plain": [
       "{'name': None,\n",
       " 'url': 'https://www.linkedin.com/in/laxmimerit',\n",
       " 'headline': 'Gen AI in Finance & Investment Services | Data Scientist | IIT Kharagpur | Asset Management | AI-Driven Financial Modeling | Search Ranking | NLP Python BERT AWS Elasticsearch GNN SQL LLM | AI in Investment Strategies',\n",
       " 'about': 'Demonstrated 8+ years of expertise in advanced analytics as an AVP in Data Science, showcasing dynamic and impactful contributions. Seeking to leverage expertise in customer behavior modeling, personalized marketing, product discovery & search optimization, and recommendations to drive impactful solutions in the fields of Data Science, Machine Learning, and Artificial Intelligence.👉 Significant Achievements Across Career▪ Strategically led impactful initiatives in Customer Behavior Modeling, resulting in a substantial 30% increase in customer retention and a 10% reduction in advertising spending.▪ Pioneered the development and implementation of a Machine Learning product relevance ranking system, contributing to a remarkable 30% increase in conversion rates and a 20% growth in revenue.▪ Applied innovative techniques, including Social Graph Analytics and Predictive  Modeling, achieving a 35% improvement in recommendation conversion rates and a 40% increase in customer care calling conversion rates.▪ Revolutionized customer segmentation and ranking, realizing a notable 20% improvement in conversion rates.▪ Engineered predictive models for email open rates, driving a remarkable 70% improvement in email engagement.▪ Achieved transformative outcomes, including a substantial 50% improvement in search conversion rates, a notable 60% increase in revenue, and an impressive 90% reduction in zero-result queries.▪ A strategic driver of user satisfaction and engagement, evidenced by a commendable 10% decrease in exit rates.Demonstrated 8+ years of expertise in advanced analytics as an AVP in Data Science, showcasing dynamic and impactful contributions. Seeking to leverage expertise in customer behavior modeling, personalized marketing, product discovery & search optimization, and recommendations to drive impactful solutions in the fields of Data Science, Machine Learning, and Artificial Intelligence.\\n\\n👉 Significant Achievements Across Career\\n▪ Strategically led impactful initiatives in Customer Behavior Modeling, resulting in a substantial 30% increase in customer retention and a 10% reduction in advertising spending.\\n\\n▪ Pioneered the development and implementation of a Machine Learning product relevance ranking system, contributing to a remarkable 30% increase in conversion rates and a 20% growth in revenue.\\n\\n▪ Applied innovative techniques, including Social Graph Analytics and Predictive  Modeling, achieving a 35% improvement in recommendation conversion rates and a 40% increase in customer care calling conversion rates.\\n\\n▪ Revolutionized customer segmentation and ranking, realizing a notable 20% improvement in conversion rates.\\n\\n▪ Engineered predictive models for email open rates, driving a remarkable 70% improvement in email engagement.\\n\\n▪ Achieved transformative outcomes, including a substantial 50% improvement in search conversion rates, a notable 60% increase in revenue, and an impressive 90% reduction in zero-result queries.\\n\\n▪ A strategic driver of user satisfaction and engagement, evidenced by a commendable 10% decrease in exit rates.',\n",
       " 'education': []}"
      ]
     },
     "execution_count": 96,
     "metadata": {},
     "output_type": "execute_result"
    }
   ],
   "source": [
    "profile_data"
   ]
  },
  {
   "cell_type": "markdown",
   "metadata": {},
   "source": [
    "### Licenses & certifications"
   ]
  },
  {
   "cell_type": "code",
   "execution_count": 97,
   "metadata": {},
   "outputs": [],
   "source": [
    "driver.find_element(By.ID, \"navigation-index-see-all-licenses-and-certifications\").click()"
   ]
  },
  {
   "cell_type": "code",
   "execution_count": 98,
   "metadata": {},
   "outputs": [],
   "source": [
    "page_source = driver.page_source\n",
    "soup = BeautifulSoup(page_source, 'lxml')\n",
    "\n",
    "soup = soup.find('section', {'class': 'artdeco-card pb3'})"
   ]
  },
  {
   "cell_type": "code",
   "execution_count": 99,
   "metadata": {},
   "outputs": [
    {
     "data": {
      "text/plain": [
       "0"
      ]
     },
     "execution_count": 99,
     "metadata": {},
     "output_type": "execute_result"
    }
   ],
   "source": [
    "items = soup.find_all('div', {'class': 'gFJNglFOnyZmIAbxVkrWpQCmMhGSasZRfRtGlFg YcvguSXGGYgEmpWJOhQrhmNocNiIvvDjETE bAMoJMoZyFCvvmHkHNQEBnMuJTWUocrss'})\n",
    "\n",
    "len(items)"
   ]
  },
  {
   "cell_type": "code",
   "execution_count": 100,
   "metadata": {},
   "outputs": [
    {
     "ename": "IndexError",
     "evalue": "list index out of range",
     "output_type": "error",
     "traceback": [
      "\u001b[0;31m---------------------------------------------------------------------------\u001b[0m",
      "\u001b[0;31mIndexError\u001b[0m                                Traceback (most recent call last)",
      "Cell \u001b[0;32mIn[100], line 1\u001b[0m\n\u001b[0;32m----> 1\u001b[0m item \u001b[38;5;241m=\u001b[39m \u001b[43mitems\u001b[49m\u001b[43m[\u001b[49m\u001b[38;5;241;43m0\u001b[39;49m\u001b[43m]\u001b[49m\n\u001b[1;32m      3\u001b[0m \u001b[38;5;28;01mdef\u001b[39;00m\u001b[38;5;250m \u001b[39m\u001b[38;5;21mget_license\u001b[39m(item):\n\u001b[1;32m      4\u001b[0m     spans \u001b[38;5;241m=\u001b[39m item\u001b[38;5;241m.\u001b[39mfind_all(\u001b[38;5;124m'\u001b[39m\u001b[38;5;124mspan\u001b[39m\u001b[38;5;124m'\u001b[39m, {\u001b[38;5;124m'\u001b[39m\u001b[38;5;124mclass\u001b[39m\u001b[38;5;124m'\u001b[39m: \u001b[38;5;124m'\u001b[39m\u001b[38;5;124mvisually-hidden\u001b[39m\u001b[38;5;124m'\u001b[39m})\n",
      "\u001b[0;31mIndexError\u001b[0m: list index out of range"
     ]
    }
   ],
   "source": [
    "item = items[0]\n",
    "\n",
    "def get_license(item):\n",
    "    spans = item.find_all('span', {'class': 'visually-hidden'})\n",
    "\n",
    "    item_dict = {}\n",
    "    item_dict['name'] = spans[0].get_text().strip()\n",
    "    item_dict['institute'] = spans[1].get_text().strip()\n",
    "    item_dict['issued_date'] = spans[2].get_text().strip()\n",
    "\n",
    "    return item_dict\n",
    "\n",
    "item_list = []\n",
    "for item in items:\n",
    "    item_list.append(get_license(item))\n",
    "\n",
    "profile_data['licenses'] = item_list\n"
   ]
  },
  {
   "cell_type": "code",
   "execution_count": 57,
   "metadata": {},
   "outputs": [],
   "source": [
    "driver.back()\n",
    "# profile_data\n"
   ]
  },
  {
   "cell_type": "markdown",
   "metadata": {},
   "source": [
    "### Projects"
   ]
  },
  {
   "cell_type": "code",
   "execution_count": 58,
   "metadata": {},
   "outputs": [],
   "source": [
    "driver.find_element(By.ID, \"navigation-index-see-all-projects\").click()"
   ]
  },
  {
   "cell_type": "code",
   "execution_count": 59,
   "metadata": {},
   "outputs": [],
   "source": [
    "page_source = driver.page_source\n",
    "soup = BeautifulSoup(page_source, 'lxml')\n",
    "\n",
    "soup = soup.find('section', {'class': 'artdeco-card pb3'})"
   ]
  },
  {
   "cell_type": "code",
   "execution_count": 60,
   "metadata": {},
   "outputs": [
    {
     "data": {
      "text/plain": [
       "0"
      ]
     },
     "execution_count": 60,
     "metadata": {},
     "output_type": "execute_result"
    }
   ],
   "source": [
    "items = soup.find_all('div', {'class': 'gFJNglFOnyZmIAbxVkrWpQCmMhGSasZRfRtGlFg YcvguSXGGYgEmpWJOhQrhmNocNiIvvDjETE bAMoJMoZyFCvvmHkHNQEBnMuJTWUocrss'})\n",
    "\n",
    "len(items)"
   ]
  },
  {
   "cell_type": "code",
   "execution_count": 62,
   "metadata": {},
   "outputs": [
    {
     "ename": "IndexError",
     "evalue": "list index out of range",
     "output_type": "error",
     "traceback": [
      "\u001b[0;31m---------------------------------------------------------------------------\u001b[0m",
      "\u001b[0;31mIndexError\u001b[0m                                Traceback (most recent call last)",
      "Cell \u001b[0;32mIn[62], line 1\u001b[0m\n\u001b[0;32m----> 1\u001b[0m item \u001b[38;5;241m=\u001b[39m \u001b[43mitems\u001b[49m\u001b[43m[\u001b[49m\u001b[38;5;241;43m0\u001b[39;49m\u001b[43m]\u001b[49m\n\u001b[1;32m      3\u001b[0m \u001b[38;5;28;01mdef\u001b[39;00m\u001b[38;5;250m \u001b[39m\u001b[38;5;21mget_project\u001b[39m(item):\n\u001b[1;32m      4\u001b[0m     spans \u001b[38;5;241m=\u001b[39m item\u001b[38;5;241m.\u001b[39mfind_all(\u001b[38;5;124m'\u001b[39m\u001b[38;5;124mspan\u001b[39m\u001b[38;5;124m'\u001b[39m, {\u001b[38;5;124m'\u001b[39m\u001b[38;5;124mclass\u001b[39m\u001b[38;5;124m'\u001b[39m: \u001b[38;5;124m'\u001b[39m\u001b[38;5;124mvisually-hidden\u001b[39m\u001b[38;5;124m'\u001b[39m})\n",
      "\u001b[0;31mIndexError\u001b[0m: list index out of range"
     ]
    }
   ],
   "source": [
    "item = items[0]\n",
    "\n",
    "def get_project(item):\n",
    "    spans = item.find_all('span', {'class': 'visually-hidden'})\n",
    "\n",
    "    item_dict = {}\n",
    "    item_dict['project_name'] = spans[0].get_text().strip()\n",
    "    item_dict['duration'] = spans[1].get_text().strip()\n",
    "    item_dict['description'] = spans[2].get_text().strip()\n",
    "\n",
    "    return item_dict\n",
    "\n",
    "item_list = []\n",
    "for item in items:\n",
    "    item_list.append(get_project(item))\n",
    "\n",
    "profile_data['projects'] = item_list"
   ]
  },
  {
   "cell_type": "code",
   "execution_count": 63,
   "metadata": {},
   "outputs": [],
   "source": [
    "driver.back()"
   ]
  },
  {
   "cell_type": "markdown",
   "metadata": {},
   "source": [
    "### All Courses"
   ]
  },
  {
   "cell_type": "code",
   "execution_count": 64,
   "metadata": {},
   "outputs": [],
   "source": [
    "driver.find_element(By.ID, \"navigation-index-see-all-courses\").click()"
   ]
  },
  {
   "cell_type": "code",
   "execution_count": 68,
   "metadata": {},
   "outputs": [
    {
     "data": {
      "text/plain": [
       "0"
      ]
     },
     "execution_count": 68,
     "metadata": {},
     "output_type": "execute_result"
    }
   ],
   "source": [
    "page_source = driver.page_source\n",
    "soup = BeautifulSoup(page_source, 'lxml')\n",
    "\n",
    "soup = soup.find('section', {'class': 'artdeco-card pb3'})\n",
    "\n",
    "items = soup.find_all('div', {'class': 'gFJNglFOnyZmIAbxVkrWpQCmMhGSasZRfRtGlFg YcvguSXGGYgEmpWJOhQrhmNocNiIvvDjETE bAMoJMoZyFCvvmHkHNQEBnMuJTWUocrss'})\n",
    "\n",
    "len(items)"
   ]
  },
  {
   "cell_type": "code",
   "execution_count": 69,
   "metadata": {},
   "outputs": [
    {
     "ename": "IndexError",
     "evalue": "list index out of range",
     "output_type": "error",
     "traceback": [
      "\u001b[0;31m---------------------------------------------------------------------------\u001b[0m",
      "\u001b[0;31mIndexError\u001b[0m                                Traceback (most recent call last)",
      "Cell \u001b[0;32mIn[69], line 1\u001b[0m\n\u001b[0;32m----> 1\u001b[0m item \u001b[38;5;241m=\u001b[39m \u001b[43mitems\u001b[49m\u001b[43m[\u001b[49m\u001b[38;5;241;43m0\u001b[39;49m\u001b[43m]\u001b[49m\n\u001b[1;32m      3\u001b[0m \u001b[38;5;28;01mdef\u001b[39;00m\u001b[38;5;250m \u001b[39m\u001b[38;5;21mget_course\u001b[39m(item):\n\u001b[1;32m      4\u001b[0m     spans \u001b[38;5;241m=\u001b[39m item\u001b[38;5;241m.\u001b[39mfind_all(\u001b[38;5;124m'\u001b[39m\u001b[38;5;124mspan\u001b[39m\u001b[38;5;124m'\u001b[39m, {\u001b[38;5;124m'\u001b[39m\u001b[38;5;124mclass\u001b[39m\u001b[38;5;124m'\u001b[39m: \u001b[38;5;124m'\u001b[39m\u001b[38;5;124mvisually-hidden\u001b[39m\u001b[38;5;124m'\u001b[39m})\n",
      "\u001b[0;31mIndexError\u001b[0m: list index out of range"
     ]
    }
   ],
   "source": [
    "item = items[0]\n",
    "\n",
    "def get_course(item):\n",
    "    spans = item.find_all('span', {'class': 'visually-hidden'})\n",
    "\n",
    "    item_dict = {}\n",
    "    item_dict['course_name'] = spans[0].get_text().strip()\n",
    "    try:\n",
    "        item_dict['associated_with'] = spans[1].get_text().strip()\n",
    "    except:\n",
    "        item_dict['associated_with'] = \"\"\n",
    "\n",
    "    return item_dict\n",
    "\n",
    "item_list = []\n",
    "for item in items:\n",
    "    item_list.append(get_course(item))\n",
    "\n",
    "profile_data['courses'] = item_list"
   ]
  },
  {
   "cell_type": "code",
   "execution_count": 107,
   "metadata": {},
   "outputs": [],
   "source": [
    "driver.back()"
   ]
  },
  {
   "cell_type": "markdown",
   "metadata": {},
   "source": [
    "### Honors & awards"
   ]
  },
  {
   "cell_type": "code",
   "execution_count": 108,
   "metadata": {},
   "outputs": [],
   "source": [
    "driver.find_element(By.ID, \"navigation-index-see-all-honorsandawards\").click()"
   ]
  },
  {
   "cell_type": "code",
   "execution_count": 111,
   "metadata": {},
   "outputs": [
    {
     "data": {
      "text/plain": [
       "6"
      ]
     },
     "execution_count": 111,
     "metadata": {},
     "output_type": "execute_result"
    }
   ],
   "source": [
    "page_source = driver.page_source\n",
    "soup = BeautifulSoup(page_source, 'lxml')\n",
    "\n",
    "soup = soup.find('section', {'class': 'artdeco-card pb3'})\n",
    "\n",
    "items = soup.find_all('span', {'class': 'visually-hidden'})\n",
    "\n",
    "len(items)"
   ]
  },
  {
   "cell_type": "code",
   "execution_count": 113,
   "metadata": {},
   "outputs": [],
   "source": [
    "item_list = []\n",
    "for item in items:\n",
    "    item_list.append(item.get_text().strip())"
   ]
  },
  {
   "cell_type": "code",
   "execution_count": 115,
   "metadata": {},
   "outputs": [],
   "source": [
    "profile_data['honors_and_awards'] = item_list"
   ]
  },
  {
   "cell_type": "code",
   "execution_count": 116,
   "metadata": {},
   "outputs": [],
   "source": [
    "import json\n",
    "\n",
    "with open('data/profile_data_tutorial.json', 'w') as f:\n",
    "    json.dump(profile_data, f, indent=4)"
   ]
  },
  {
   "cell_type": "code",
   "execution_count": 117,
   "metadata": {},
   "outputs": [],
   "source": [
    "driver.back()"
   ]
  },
  {
   "cell_type": "code",
   "execution_count": null,
   "metadata": {},
   "outputs": [],
   "source": []
  }
 ],
 "metadata": {
  "kernelspec": {
   "display_name": "ml",
   "language": "python",
   "name": "python3"
  },
  "language_info": {
   "codemirror_mode": {
    "name": "ipython",
    "version": 3
   },
   "file_extension": ".py",
   "mimetype": "text/x-python",
   "name": "python",
   "nbconvert_exporter": "python",
   "pygments_lexer": "ipython3",
   "version": "3.12.3"
  }
 },
 "nbformat": 4,
 "nbformat_minor": 2
}
